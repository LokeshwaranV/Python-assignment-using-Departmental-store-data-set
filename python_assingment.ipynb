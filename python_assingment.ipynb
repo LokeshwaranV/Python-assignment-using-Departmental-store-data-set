{
 "cells": [
  {
   "cell_type": "code",
   "execution_count": 14,
   "metadata": {
    "id": "OBF0Quv3mbGO"
   },
   "outputs": [],
   "source": [
    "# Price Data\n",
    "\n",
    "item_dict = {'almonds': 6,\n",
    " 'antioxidant juice': 9,\n",
    " 'avocado': 1,\n",
    " 'black tea': 4,\n",
    " 'burgers': 4,\n",
    " 'champagne': 3,\n",
    " 'chicken': 4,\n",
    " 'chocolate': 7,\n",
    " 'chutney': 7,\n",
    " 'cookies': 7,\n",
    " 'cooking oil': 7,\n",
    " 'cottage cheese': 9,\n",
    " 'eggs': 9,\n",
    " 'energy bar': 9,\n",
    " 'energy drink': 3,\n",
    " 'extra dark chocolate': 8,\n",
    " 'french fries': 7,\n",
    " 'fresh tuna': 9,\n",
    " 'frozen smoothie': 7,\n",
    " 'frozen vegetables': 2,\n",
    " 'green grapes': 8,\n",
    " 'green tea': 8,\n",
    " 'honey': 9,\n",
    " 'light cream': 5,\n",
    " 'low fat yogurt': 4,\n",
    " 'meatballs': 9,\n",
    " 'milk': 5,\n",
    " 'mineral water': 2,\n",
    " 'oil': 9,\n",
    " 'olive oil': 8,\n",
    " 'pet food': 3,\n",
    " 'protein bar': 1,\n",
    " 'salad': 7,\n",
    " 'salmon': 3,\n",
    " 'shallot': 6,\n",
    " 'shrimp': 2,\n",
    " 'soup': 2,\n",
    " 'spaghetti': 6,\n",
    " 'spinach': 7,\n",
    " 'tomato juice': 8,\n",
    " 'tomatoes': 5,\n",
    " 'turkey': 8,\n",
    " 'vegetables mix': 3,\n",
    " 'whole wheat flour': 5,\n",
    " 'whole wheat pasta': 5,\n",
    " 'whole wheat rice': 4,\n",
    " 'yams': 7}"
   ]
  },
  {
   "cell_type": "code",
   "execution_count": 33,
   "metadata": {
    "id": "_uutgZt4mcgz"
   },
   "outputs": [],
   "source": [
    "# transaction data\n",
    "\n",
    "transaction_data = \\\n",
    "[['shrimp', 'almonds', 'avocado', 'vegetables mix', 'green grapes', 'whole wheat flour', 'yams', 'cottage cheese', 'energy drink', 'tomato juice', 'low fat yogurt', 'green tea', 'honey', 'salad', 'mineral water', 'salmon', 'antioxidant juice', 'frozen smoothie', 'spinach', 'olive oil'],\n",
    "['burgers', 'meatballs', 'eggs'],\n",
    "['chutney'],\n",
    "['turkey', 'avocado'],\n",
    "['mineral water', 'milk', 'energy bar', 'whole wheat rice', 'green tea'],\n",
    "['low fat yogurt'],\n",
    "['whole wheat pasta', 'french fries'],\n",
    "['soup', 'light cream', 'shallot'],\n",
    "['frozen vegetables', 'spaghetti', 'green tea'],\n",
    "['french fries'],\n",
    "['eggs', 'pet food'],\n",
    "['cookies'],\n",
    "['turkey', 'burgers', 'mineral water', 'eggs', 'cooking oil'],\n",
    "['spaghetti', 'champagne', 'cookies'],\n",
    "['mineral water', 'salmon'],\n",
    "['mineral water'],\n",
    "['shrimp', 'chocolate', 'chicken', 'honey', 'oil', 'cooking oil', 'low fat yogurt'],\n",
    "['turkey', 'eggs'],\n",
    "['turkey', 'fresh tuna', 'tomatoes', 'spaghetti', 'mineral water', 'black tea', 'salmon', 'eggs', 'chicken', 'extra dark chocolate'],\n",
    "['meatballs', 'milk', 'honey', 'french fries', 'protein bar']]"
   ]
  },
  {
   "cell_type": "markdown",
   "metadata": {
    "id": "lTmOHxeVmjt0"
   },
   "source": [
    "Q1.1 This gives number of unique items"
   ]
  },
  {
   "cell_type": "code",
   "execution_count": 16,
   "metadata": {},
   "outputs": [
    {
     "name": "stdout",
     "output_type": "stream",
     "text": [
      "47\n"
     ]
    }
   ],
   "source": [
    "unique_items=len(item_dict) \n",
    "print(len(item_dict))"
   ]
  },
  {
   "cell_type": "markdown",
   "metadata": {},
   "source": [
    "Q1.2 This gives number of transcations"
   ]
  },
  {
   "cell_type": "code",
   "execution_count": 17,
   "metadata": {},
   "outputs": [
    {
     "name": "stdout",
     "output_type": "stream",
     "text": [
      "20\n"
     ]
    }
   ],
   "source": [
    "total_transcation=len(transaction_data)\n",
    "print(total_transcation)"
   ]
  },
  {
   "cell_type": "markdown",
   "metadata": {},
   "source": [
    "Q1.3 Add Banana to the item_dict with cost $5"
   ]
  },
  {
   "cell_type": "code",
   "execution_count": 18,
   "metadata": {},
   "outputs": [
    {
     "name": "stdout",
     "output_type": "stream",
     "text": [
      "{'almonds': 6, 'antioxidant juice': 9, 'avocado': 1, 'black tea': 4, 'burgers': 4, 'champagne': 3, 'chicken': 4, 'chocolate': 7, 'chutney': 7, 'cookies': 7, 'cooking oil': 7, 'cottage cheese': 9, 'eggs': 9, 'energy bar': 9, 'energy drink': 3, 'extra dark chocolate': 8, 'french fries': 7, 'fresh tuna': 9, 'frozen smoothie': 7, 'frozen vegetables': 2, 'green grapes': 8, 'green tea': 8, 'honey': 9, 'light cream': 5, 'low fat yogurt': 4, 'meatballs': 9, 'milk': 5, 'mineral water': 2, 'oil': 9, 'olive oil': 8, 'pet food': 3, 'protein bar': 1, 'salad': 7, 'salmon': 3, 'shallot': 6, 'shrimp': 2, 'soup': 2, 'spaghetti': 6, 'spinach': 7, 'tomato juice': 8, 'tomatoes': 5, 'turkey': 8, 'vegetables mix': 3, 'whole wheat flour': 5, 'whole wheat pasta': 5, 'whole wheat rice': 4, 'yams': 7, 'banana': 5}\n",
      "48\n"
     ]
    }
   ],
   "source": [
    "item_dict.update({\"banana\":5})\n",
    "print(item_dict)\n",
    "print(len(item_dict))"
   ]
  },
  {
   "cell_type": "markdown",
   "metadata": {},
   "source": [
    "Q 1.4 Function to add item"
   ]
  },
  {
   "cell_type": "code",
   "execution_count": 19,
   "metadata": {},
   "outputs": [
    {
     "name": "stdout",
     "output_type": "stream",
     "text": [
      "name of the item: wax\n",
      "cost: 12\n",
      "{'almonds': 6, 'antioxidant juice': 9, 'avocado': 1, 'black tea': 4, 'burgers': 4, 'champagne': 3, 'chicken': 4, 'chocolate': 7, 'chutney': 7, 'cookies': 7, 'cooking oil': 7, 'cottage cheese': 9, 'eggs': 9, 'energy bar': 9, 'energy drink': 3, 'extra dark chocolate': 8, 'french fries': 7, 'fresh tuna': 9, 'frozen smoothie': 7, 'frozen vegetables': 2, 'green grapes': 8, 'green tea': 8, 'honey': 9, 'light cream': 5, 'low fat yogurt': 4, 'meatballs': 9, 'milk': 5, 'mineral water': 2, 'oil': 9, 'olive oil': 8, 'pet food': 3, 'protein bar': 1, 'salad': 7, 'salmon': 3, 'shallot': 6, 'shrimp': 2, 'soup': 2, 'spaghetti': 6, 'spinach': 7, 'tomato juice': 8, 'tomatoes': 5, 'turkey': 8, 'vegetables mix': 3, 'whole wheat flour': 5, 'whole wheat pasta': 5, 'whole wheat rice': 4, 'yams': 7, 'banana': 5, 'wax': 12} 49\n"
     ]
    }
   ],
   "source": [
    "def add_item():\n",
    "    return item_dict.update({input(\"name of the item: \"):int(input(\"cost: \"))})\n",
    "add_item( )\n",
    "print(item_dict,len(item_dict))\n"
   ]
  },
  {
   "cell_type": "markdown",
   "metadata": {},
   "source": [
    "Q 1.5 Function to delete item"
   ]
  },
  {
   "cell_type": "code",
   "execution_count": 20,
   "metadata": {},
   "outputs": [
    {
     "name": "stdout",
     "output_type": "stream",
     "text": [
      "item to be removed: wax\n",
      "{'almonds': 6, 'antioxidant juice': 9, 'avocado': 1, 'black tea': 4, 'burgers': 4, 'champagne': 3, 'chicken': 4, 'chocolate': 7, 'chutney': 7, 'cookies': 7, 'cooking oil': 7, 'cottage cheese': 9, 'eggs': 9, 'energy bar': 9, 'energy drink': 3, 'extra dark chocolate': 8, 'french fries': 7, 'fresh tuna': 9, 'frozen smoothie': 7, 'frozen vegetables': 2, 'green grapes': 8, 'green tea': 8, 'honey': 9, 'light cream': 5, 'low fat yogurt': 4, 'meatballs': 9, 'milk': 5, 'mineral water': 2, 'oil': 9, 'olive oil': 8, 'pet food': 3, 'protein bar': 1, 'salad': 7, 'salmon': 3, 'shallot': 6, 'shrimp': 2, 'soup': 2, 'spaghetti': 6, 'spinach': 7, 'tomato juice': 8, 'tomatoes': 5, 'turkey': 8, 'vegetables mix': 3, 'whole wheat flour': 5, 'whole wheat pasta': 5, 'whole wheat rice': 4, 'yams': 7, 'banana': 5}\n"
     ]
    }
   ],
   "source": [
    "def remove_item(x):\n",
    "    return item_dict.pop(x)\n",
    "remove_item(input(\"item to be removed: \"))\n",
    "print(item_dict)"
   ]
  },
  {
   "cell_type": "markdown",
   "metadata": {},
   "source": [
    "Q 2"
   ]
  },
  {
   "cell_type": "code",
   "execution_count": 21,
   "metadata": {},
   "outputs": [
    {
     "name": "stdout",
     "output_type": "stream",
     "text": [
      "iteam name: salmon\n",
      "3\n"
     ]
    }
   ],
   "source": [
    "# 1.code to find the price of an item from the cost dictionary\n",
    "cost_of_an_item=item_dict[input(\"iteam name: \")]\n",
    "print(cost_of_an_item)"
   ]
  },
  {
   "cell_type": "code",
   "execution_count": 22,
   "metadata": {},
   "outputs": [
    {
     "name": "stdout",
     "output_type": "stream",
     "text": [
      "Enter transaction number: 9\n",
      "['frozen vegetables', 'spaghetti', 'green tea']\n"
     ]
    }
   ],
   "source": [
    "#2.code to find any particular transaction in the sequence\n",
    "transaction= transaction_data[int(input(\"Enter transaction number: \"))-1]\n",
    "print(transaction)"
   ]
  },
  {
   "cell_type": "code",
   "execution_count": 23,
   "metadata": {},
   "outputs": [
    {
     "name": "stdout",
     "output_type": "stream",
     "text": [
      "3\n"
     ]
    }
   ],
   "source": [
    "#3.code to find how many items are present in the ninth transaction\n",
    "Number_of_items_in_transaction= len(transaction)\n",
    "print(Number_of_items_in_transaction)"
   ]
  },
  {
   "cell_type": "code",
   "execution_count": 24,
   "metadata": {},
   "outputs": [
    {
     "data": {
      "text/plain": [
       "16"
      ]
     },
     "execution_count": 24,
     "metadata": {},
     "output_type": "execute_result"
    }
   ],
   "source": [
    "#4.code to find the total cost of a transaction\n",
    "def total_cost_of_transaction(tran):\n",
    "    total=0\n",
    "    for i in tran:\n",
    "        total= total+item_dict[i]\n",
    "    return total\n",
    "total_cost_of_transaction(transaction)"
   ]
  },
  {
   "cell_type": "code",
   "execution_count": 25,
   "metadata": {},
   "outputs": [
    {
     "name": "stdout",
     "output_type": "stream",
     "text": [
      "23.1\n"
     ]
    }
   ],
   "source": [
    "#5. code to find the final price of the second transaction after applicable taxes have been implemented.\n",
    "final_cost_of_second_transaction= total_cost_of_transaction(transaction_data[1]) + (total_cost_of_transaction(transaction_data[1])*0.05)\n",
    "print(final_cost_of_second_transaction)"
   ]
  },
  {
   "cell_type": "code",
   "execution_count": 26,
   "metadata": {},
   "outputs": [
    {
     "data": {
      "text/plain": [
       "16.8"
      ]
     },
     "execution_count": 26,
     "metadata": {},
     "output_type": "execute_result"
    }
   ],
   "source": [
    "#6.to find the final price of any transaction after applicable taxes have been implemented.\n",
    "def find_total(trans):\n",
    "    return total_cost_of_transaction(trans) + (total_cost_of_transaction(trans)*0.05)\n",
    "find_total(transaction)"
   ]
  },
  {
   "cell_type": "markdown",
   "metadata": {},
   "source": [
    "Q3. 1\n",
    "What is the data structure that can be used to count the frequency of items purchased (from the transaction data)?\n",
    "answer: Dictionary can be used"
   ]
  },
  {
   "cell_type": "code",
   "execution_count": 34,
   "metadata": {},
   "outputs": [
    {
     "data": {
      "text/plain": [
       "{'shrimp': 2,\n",
       " 'almonds': 1,\n",
       " 'avocado': 2,\n",
       " 'vegetables mix': 1,\n",
       " 'green grapes': 1,\n",
       " 'whole wheat flour': 1,\n",
       " 'yams': 1,\n",
       " 'cottage cheese': 1,\n",
       " 'energy drink': 1,\n",
       " 'tomato juice': 1,\n",
       " 'low fat yogurt': 3,\n",
       " 'green tea': 3,\n",
       " 'honey': 3,\n",
       " 'salad': 1,\n",
       " 'mineral water': 6,\n",
       " 'salmon': 3,\n",
       " 'antioxidant juice': 1,\n",
       " 'frozen smoothie': 1,\n",
       " 'spinach': 1,\n",
       " 'olive oil': 1,\n",
       " 'burgers': 2,\n",
       " 'meatballs': 2,\n",
       " 'eggs': 5,\n",
       " 'chutney': 1,\n",
       " 'turkey': 4,\n",
       " 'milk': 2,\n",
       " 'energy bar': 1,\n",
       " 'whole wheat rice': 1,\n",
       " 'whole wheat pasta': 1,\n",
       " 'french fries': 3,\n",
       " 'soup': 1,\n",
       " 'light cream': 1,\n",
       " 'shallot': 1,\n",
       " 'frozen vegetables': 1,\n",
       " 'spaghetti': 3,\n",
       " 'pet food': 1,\n",
       " 'cookies': 2,\n",
       " 'cooking oil': 2,\n",
       " 'champagne': 1,\n",
       " 'chocolate': 1,\n",
       " 'chicken': 2,\n",
       " 'oil': 1,\n",
       " 'fresh tuna': 1,\n",
       " 'tomatoes': 1,\n",
       " 'black tea': 1,\n",
       " 'extra dark chocolate': 1,\n",
       " 'protein bar': 1}"
      ]
     },
     "execution_count": 34,
     "metadata": {},
     "output_type": "execute_result"
    }
   ],
   "source": [
    "#Q3.2 Create a frequency counter to count the number of items\n",
    "def frequency_counter():\n",
    "    frequency_dict = {}\n",
    "    for transaction in transaction_data: # looping over each transaction\n",
    "        for item in transaction: # looping over each item present in the transaction\n",
    "            if item in frequency_dict:\n",
    "                frequency_dict[item] += 1# increment the frequency by 1 if the item is found in the dictionary\n",
    "            else:\n",
    "                frequency_dict[item]= 1 # create a new key with the item name if the item is found for the first time\n",
    "    return frequency_dict\n",
    "frequency_counter()"
   ]
  },
  {
   "cell_type": "code",
   "execution_count": 28,
   "metadata": {},
   "outputs": [
    {
     "name": "stdout",
     "output_type": "stream",
     "text": [
      "[['shrimp', 'almonds', 'avocado', 'vegetables mix', 'green grapes', 'whole wheat flour', 'yams', 'cottage cheese', 'energy drink', 'tomato juice', 'low fat yogurt', 'green tea', 'honey', 'salad', 'mineral water', 'salmon', 'antioxidant juice', 'frozen smoothie', 'spinach', 'olive oil'], ['burgers', 'meatballs', 'eggs'], ['chutney'], ['turkey', 'avocado'], ['mineral water', 'milk', 'energy bar', 'whole wheat rice', 'green tea'], ['low fat yogurt'], ['whole wheat pasta', 'french fries'], ['soup', 'light cream', 'shallot'], ['frozen vegetables', 'spaghetti', 'green tea'], ['french fries'], ['eggs', 'pet food'], ['cookies'], ['turkey', 'burgers', 'mineral water', 'eggs', 'cooking oil'], ['spaghetti', 'champagne', 'cookies'], ['mineral water', 'salmon'], ['mineral water'], ['shrimp', 'chocolate', 'chicken', 'honey', 'oil', 'cooking oil', 'low fat yogurt'], ['turkey', 'eggs'], ['turkey', 'fresh tuna', 'tomatoes', 'spaghetti', 'mineral water', 'black tea', 'salmon', 'eggs', 'chicken', 'extra dark chocolate'], ['meatballs', 'milk', 'honey', 'french fries', 'protein bar'], ['honey', 'pet food', 'shrimp']] 21\n"
     ]
    },
    {
     "data": {
      "text/plain": [
       "{'shrimp': 3,\n",
       " 'almonds': 1,\n",
       " 'avocado': 2,\n",
       " 'vegetables mix': 1,\n",
       " 'green grapes': 1,\n",
       " 'whole wheat flour': 1,\n",
       " 'yams': 1,\n",
       " 'cottage cheese': 1,\n",
       " 'energy drink': 1,\n",
       " 'tomato juice': 1,\n",
       " 'low fat yogurt': 3,\n",
       " 'green tea': 3,\n",
       " 'honey': 4,\n",
       " 'salad': 1,\n",
       " 'mineral water': 6,\n",
       " 'salmon': 3,\n",
       " 'antioxidant juice': 1,\n",
       " 'frozen smoothie': 1,\n",
       " 'spinach': 1,\n",
       " 'olive oil': 1,\n",
       " 'burgers': 2,\n",
       " 'meatballs': 2,\n",
       " 'eggs': 5,\n",
       " 'chutney': 1,\n",
       " 'turkey': 4,\n",
       " 'milk': 2,\n",
       " 'energy bar': 1,\n",
       " 'whole wheat rice': 1,\n",
       " 'whole wheat pasta': 1,\n",
       " 'french fries': 3,\n",
       " 'soup': 1,\n",
       " 'light cream': 1,\n",
       " 'shallot': 1,\n",
       " 'frozen vegetables': 1,\n",
       " 'spaghetti': 3,\n",
       " 'pet food': 2,\n",
       " 'cookies': 2,\n",
       " 'cooking oil': 2,\n",
       " 'champagne': 1,\n",
       " 'chocolate': 1,\n",
       " 'chicken': 2,\n",
       " 'oil': 1,\n",
       " 'fresh tuna': 1,\n",
       " 'tomatoes': 1,\n",
       " 'black tea': 1,\n",
       " 'extra dark chocolate': 1,\n",
       " 'protein bar': 1}"
      ]
     },
     "execution_count": 28,
     "metadata": {},
     "output_type": "execute_result"
    }
   ],
   "source": [
    "#Q3. 3 A new transaction has just been made. This transaction includes “honey,” “pet food,” and “shrimp.” \n",
    "#Update the frequency counter to reflect this new transaction.\n",
    "transaction_data.append([\"honey\",\"pet food\",\"shrimp\"])\n",
    "print(transaction_data,len(transaction_data))\n",
    "frequency_counter()"
   ]
  },
  {
   "cell_type": "code",
   "execution_count": 35,
   "metadata": {
    "scrolled": true
   },
   "outputs": [
    {
     "name": "stdout",
     "output_type": "stream",
     "text": [
      "['french fries']\n"
     ]
    },
    {
     "data": {
      "text/plain": [
       "{'shrimp': 2,\n",
       " 'almonds': 1,\n",
       " 'avocado': 2,\n",
       " 'vegetables mix': 1,\n",
       " 'green grapes': 1,\n",
       " 'whole wheat flour': 1,\n",
       " 'yams': 1,\n",
       " 'cottage cheese': 1,\n",
       " 'energy drink': 1,\n",
       " 'tomato juice': 1,\n",
       " 'low fat yogurt': 3,\n",
       " 'green tea': 3,\n",
       " 'honey': 3,\n",
       " 'salad': 1,\n",
       " 'mineral water': 6,\n",
       " 'salmon': 3,\n",
       " 'antioxidant juice': 1,\n",
       " 'frozen smoothie': 1,\n",
       " 'spinach': 1,\n",
       " 'olive oil': 1,\n",
       " 'burgers': 2,\n",
       " 'meatballs': 2,\n",
       " 'eggs': 5,\n",
       " 'chutney': 1,\n",
       " 'turkey': 4,\n",
       " 'milk': 2,\n",
       " 'energy bar': 1,\n",
       " 'whole wheat rice': 1,\n",
       " 'whole wheat pasta': 1,\n",
       " 'french fries': 4,\n",
       " 'soup': 1,\n",
       " 'light cream': 1,\n",
       " 'shallot': 1,\n",
       " 'frozen vegetables': 1,\n",
       " 'spaghetti': 3,\n",
       " 'pet food': 1,\n",
       " 'cookies': 2,\n",
       " 'cooking oil': 2,\n",
       " 'champagne': 1,\n",
       " 'chocolate': 1,\n",
       " 'chicken': 2,\n",
       " 'oil': 1,\n",
       " 'fresh tuna': 1,\n",
       " 'tomatoes': 1,\n",
       " 'black tea': 1,\n",
       " 'extra dark chocolate': 1,\n",
       " 'protein bar': 1}"
      ]
     },
     "execution_count": 35,
     "metadata": {},
     "output_type": "execute_result"
    }
   ],
   "source": [
    "#Q3. 4\n",
    "def update_counter():\n",
    "    import ast\n",
    "    itemt= input()\n",
    "    transaction_items=ast.literal_eval(itemt)\n",
    "    transaction_data.append(transaction_items)\n",
    "    n=frequency_counter()\n",
    "    return n\n",
    "updated_counter=update_counter()\n",
    "updated_counter"
   ]
  },
  {
   "cell_type": "markdown",
   "metadata": {},
   "source": [
    "Q4"
   ]
  },
  {
   "cell_type": "code",
   "execution_count": 36,
   "metadata": {},
   "outputs": [
    {
     "name": "stdout",
     "output_type": "stream",
     "text": [
      "top selling item: mineral water\n"
     ]
    }
   ],
   "source": [
    "#Q4. 1 What is the top-selling item?\n",
    "top_selling_items= dict(sorted(updated_counter.items(), key=lambda x: x[1], reverse=True))\n",
    "list_of_top_selling_item=list(top_selling_items.keys())\n",
    "print(\"top selling item:\",end=\" \")\n",
    "print(list_of_top_selling_item[0])"
   ]
  },
  {
   "cell_type": "markdown",
   "metadata": {},
   "source": [
    "Applying Merge, selection and insertion sort on frequency dicctonary"
   ]
  },
  {
   "cell_type": "code",
   "execution_count": 42,
   "metadata": {},
   "outputs": [
    {
     "name": "stdout",
     "output_type": "stream",
     "text": [
      "{'mineral water': 6, 'eggs': 5, 'turkey': 4, 'french fries': 4, 'low fat yogurt': 3, 'green tea': 3, 'honey': 3, 'salmon': 3, 'spaghetti': 3, 'shrimp': 2, 'avocado': 2, 'burgers': 2, 'meatballs': 2, 'milk': 2, 'cookies': 2, 'cooking oil': 2, 'chicken': 2, 'almonds': 1, 'vegetables mix': 1, 'green grapes': 1, 'whole wheat flour': 1, 'yams': 1, 'cottage cheese': 1, 'energy drink': 1, 'tomato juice': 1, 'salad': 1, 'antioxidant juice': 1, 'frozen smoothie': 1, 'spinach': 1, 'olive oil': 1, 'chutney': 1, 'energy bar': 1, 'whole wheat rice': 1, 'whole wheat pasta': 1, 'soup': 1, 'light cream': 1, 'shallot': 1, 'frozen vegetables': 1, 'pet food': 1, 'champagne': 1, 'chocolate': 1, 'oil': 1, 'fresh tuna': 1, 'tomatoes': 1, 'black tea': 1, 'extra dark chocolate': 1, 'protein bar': 1}\n",
      "0.007999420166015625\n"
     ]
    }
   ],
   "source": [
    "#Applying merge sort on frequency dictionary\n",
    "import time\n",
    "start_time_for_merge= time.time()\n",
    "def merge(arr, l, m, r):\n",
    "    n1 = m - l + 1\n",
    "    n2 = r - m\n",
    "    L = [0] * (n1)\n",
    "    R = [0] * (n2)\n",
    "    for i in range(0, n1):\n",
    "        L[i] = arr[l + i]\n",
    " \n",
    "    for j in range(0, n2):\n",
    "        R[j] = arr[m + 1 + j]\n",
    "    i = 0     \n",
    "    j = 0     \n",
    "    k = l     \n",
    "    while i < n1 and j < n2:\n",
    "        if L[i] <= R[j]:\n",
    "            arr[k] = L[i]\n",
    "            i += 1\n",
    "        else:\n",
    "            arr[k] = R[j]\n",
    "            j += 1\n",
    "        k += 1\n",
    "    while i < n1:\n",
    "        arr[k] = L[i]\n",
    "        i += 1\n",
    "        k += 1\n",
    "    while j < n2:\n",
    "        arr[k] = R[j]\n",
    "        j += 1\n",
    "        k += 1 \n",
    "def mergeSort(arr, l, r):\n",
    "    if l < r:\n",
    "        m = l+(r-l)//2\n",
    "        mergeSort(arr, l, m)\n",
    "        mergeSort(arr, m+1, r)\n",
    "        merge(arr, l, m, r)\n",
    "arr =list(updated_counter.values())\n",
    "n = len(arr)\n",
    "mergeSort(arr, 0, n-1)\n",
    "updated_counter_by_merge_sort={}\n",
    "for i in arr[::-1]:\n",
    "    for j in updated_counter.keys():\n",
    "        if j in updated_counter_by_merge_sort:\n",
    "            f=1\n",
    "        else:\n",
    "            if updated_counter[j]==i:\n",
    "                updated_counter_by_merge_sort.update({j:i})\n",
    "            \n",
    "print(updated_counter_by_merge_sort)\n",
    "end_time_for_merge= time.time()\n",
    "time_taken_for_mergesort=end_time_for_merge-start_time_for_merge\n",
    "print(time_taken_for_mergesort)"
   ]
  },
  {
   "cell_type": "code",
   "execution_count": 39,
   "metadata": {},
   "outputs": [
    {
     "name": "stdout",
     "output_type": "stream",
     "text": [
      "{'mineral water': 6, 'eggs': 5, 'turkey': 4, 'french fries': 4, 'low fat yogurt': 3, 'green tea': 3, 'honey': 3, 'salmon': 3, 'spaghetti': 3, 'shrimp': 2, 'avocado': 2, 'burgers': 2, 'meatballs': 2, 'milk': 2, 'cookies': 2, 'cooking oil': 2, 'chicken': 2, 'almonds': 1, 'vegetables mix': 1, 'green grapes': 1, 'whole wheat flour': 1, 'yams': 1, 'cottage cheese': 1, 'energy drink': 1, 'tomato juice': 1, 'salad': 1, 'antioxidant juice': 1, 'frozen smoothie': 1, 'spinach': 1, 'olive oil': 1, 'chutney': 1, 'energy bar': 1, 'whole wheat rice': 1, 'whole wheat pasta': 1, 'soup': 1, 'light cream': 1, 'shallot': 1, 'frozen vegetables': 1, 'pet food': 1, 'champagne': 1, 'chocolate': 1, 'oil': 1, 'fresh tuna': 1, 'tomatoes': 1, 'black tea': 1, 'extra dark chocolate': 1, 'protein bar': 1}\n",
      "0.00799870491027832\n"
     ]
    }
   ],
   "source": [
    "#applying insertion sort on frequency dictionary\n",
    "start_time_for_insertion=time.time()\n",
    "def insertionSort(arr): \n",
    "    for i in range(1, len(arr)):\n",
    "        key = arr[i]\n",
    "        j = i-1\n",
    "        while j >= 0 and key < arr[j] :\n",
    "                arr[j + 1] = arr[j]\n",
    "                j -= 1\n",
    "        arr[j + 1] = key\n",
    "arr =list(updated_counter.values())\n",
    "insertionSort(arr)\n",
    "updated_counter_by_insertion_sort={}\n",
    "for i in arr[::-1]:\n",
    "    for j in updated_counter.keys():\n",
    "        if j in updated_counter_by_insertion_sort:\n",
    "            f=1\n",
    "        else:\n",
    "            if updated_counter[j]==i:\n",
    "                updated_counter_by_insertion_sort.update({j:i})\n",
    "            \n",
    "print(updated_counter_by_insertion_sort)\n",
    "end_time_for_insertion= time.time()\n",
    "time_taken_for_insertionsort=end_time_for_merge-start_time_for_merge\n",
    "print(time_taken_for_insertionsort)\n"
   ]
  },
  {
   "cell_type": "code",
   "execution_count": 44,
   "metadata": {},
   "outputs": [
    {
     "name": "stdout",
     "output_type": "stream",
     "text": [
      "{'almonds': 1, 'vegetables mix': 1, 'green grapes': 1, 'whole wheat flour': 1, 'yams': 1, 'cottage cheese': 1, 'energy drink': 1, 'tomato juice': 1, 'salad': 1, 'antioxidant juice': 1, 'frozen smoothie': 1, 'spinach': 1, 'olive oil': 1, 'chutney': 1, 'energy bar': 1, 'whole wheat rice': 1, 'whole wheat pasta': 1, 'soup': 1, 'light cream': 1, 'shallot': 1, 'frozen vegetables': 1, 'pet food': 1, 'champagne': 1, 'chocolate': 1, 'oil': 1, 'fresh tuna': 1, 'tomatoes': 1, 'black tea': 1, 'extra dark chocolate': 1, 'protein bar': 1, 'shrimp': 2, 'avocado': 2, 'burgers': 2, 'meatballs': 2, 'milk': 2, 'cookies': 2, 'cooking oil': 2, 'chicken': 2, 'low fat yogurt': 3, 'green tea': 3, 'honey': 3, 'salmon': 3, 'spaghetti': 3, 'turkey': 4, 'french fries': 4, 'eggs': 5, 'mineral water': 6}\n",
      "0.007999897003173828\n"
     ]
    }
   ],
   "source": [
    "#applying selection sort on frequcency dictionary\n",
    "start_time_for_selection=time.time()\n",
    "import sys\n",
    "def selectionsort(arr):\n",
    "    for i in range(len(arr)):\n",
    "        min_idx = i\n",
    "    for j in range(i+1, len(arr)):\n",
    "        if arr[min_idx] > arr[j]:\n",
    "            min_idx = j       \n",
    "    arr[i], arr[min_idx] = arr[min_idx], arr[i]\n",
    "arr =list(updated_counter.values())\n",
    "selectionsort(arr)\n",
    "updated_counter_by_selection_sort={}\n",
    "for i in arr[::-1]:\n",
    "    for j in updated_counter.keys():\n",
    "        if j in updated_counter_by_selection_sort:\n",
    "            f=1\n",
    "        else:\n",
    "            if updated_counter[j]==i:\n",
    "                updated_counter_by_selection_sort.update({j:i})\n",
    "            \n",
    "print(updated_counter_by_selection_sort)\n",
    "end_time_for_selection= time.time()\n",
    "time_taken_for_selectionsort=end_time_for_selection-start_time_for_selection\n",
    "print(time_taken_for_selectionsort)\n",
    "\n"
   ]
  },
  {
   "cell_type": "markdown",
   "metadata": {},
   "source": [
    "Q 4.3 Rank the sorting algorithms in order of the time they take to sort items.\n",
    "1.merge sort\n",
    "2.insertion sort\n",
    "3.selection sort"
   ]
  }
 ],
 "metadata": {
  "colab": {
   "name": "Data.ipynb",
   "provenance": []
  },
  "kernelspec": {
   "display_name": "Python 3 (ipykernel)",
   "language": "python",
   "name": "python3"
  },
  "language_info": {
   "codemirror_mode": {
    "name": "ipython",
    "version": 3
   },
   "file_extension": ".py",
   "mimetype": "text/x-python",
   "name": "python",
   "nbconvert_exporter": "python",
   "pygments_lexer": "ipython3",
   "version": "3.9.13"
  }
 },
 "nbformat": 4,
 "nbformat_minor": 1
}
